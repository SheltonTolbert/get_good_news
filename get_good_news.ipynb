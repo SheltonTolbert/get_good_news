{
 "cells": [
  {
   "cell_type": "code",
   "execution_count": 2,
   "metadata": {},
   "outputs": [],
   "source": [
    "#https://www.Positive.News"
   ]
  },
  {
   "cell_type": "code",
   "execution_count": 38,
   "metadata": {},
   "outputs": [],
   "source": [
    "import requests\n",
    "import json\n",
    "from bs4 import BeautifulSoup as bs\n",
    "import random\n",
    "\n",
    "def get_good_news():\n",
    "    urls = [\n",
    "        \"https://www.positive.news/category/society/\",\n",
    "        \"https://www.positive.news/category/environment/\",\n",
    "        \"https://www.positive.news/category/lifestyle/\",\n",
    "        \"https://www.positive.news/category/science/\",\n",
    "        \"https://www.positive.news/category/economics/\",\n",
    "        \"https://www.positive.news/category/opinion/\",\n",
    "        \"https://www.positive.news/category/uk/\",\n",
    "        \"https://www.positive.news/category/world/\"\n",
    "    ]\n",
    "\n",
    "    url = urls[random.randrange(0,len(urls), 1)]\n",
    "    response = requests.get(url)\n",
    "    soup = bs(response.text, \"html.parser\")\n",
    "\n",
    "    articles = []\n",
    "    for article in soup.find_all(\"a\", {\"class\": \"card__image__link\"}):\n",
    "        try: \n",
    "            articles.append(article['href'])\n",
    "        except KeyError: \n",
    "            pass\n",
    "\n",
    "\n",
    "    return(articles[random.randrange(0, len(articles), 1)])\n"
   ]
  },
  {
   "cell_type": "code",
   "execution_count": 39,
   "metadata": {},
   "outputs": [
    {
     "name": "stdout",
     "output_type": "stream",
     "text": [
      "https://www.positive.news/society/what-went-right-in-2020-the-top-20-good-news-stories-of-the-year/\n"
     ]
    }
   ],
   "source": [
    "print(get_good_news())"
   ]
  },
  {
   "cell_type": "code",
   "execution_count": null,
   "metadata": {},
   "outputs": [],
   "source": []
  }
 ],
 "metadata": {
  "kernelspec": {
   "display_name": "goodNews",
   "language": "python",
   "name": "goodnews"
  },
  "language_info": {
   "codemirror_mode": {
    "name": "ipython",
    "version": 3
   },
   "file_extension": ".py",
   "mimetype": "text/x-python",
   "name": "python",
   "nbconvert_exporter": "python",
   "pygments_lexer": "ipython3",
   "version": "3.6.10"
  }
 },
 "nbformat": 4,
 "nbformat_minor": 4
}
